{
 "cells": [
  {
   "cell_type": "markdown",
   "metadata": {},
   "source": [
    "# kappa系数简介"
   ]
  },
  {
   "cell_type": "markdown",
   "metadata": {},
   "source": [
    "### kappa系数是什么"
   ]
  },
  {
   "cell_type": "markdown",
   "metadata": {},
   "source": [
    "- Kappa系数用于一致性检验，也可以用于衡量分类精度，kappa系数的计算是基于混淆矩阵的。  \n",
    "> 分类问题中，这个一致性就是模型预测结果和实际分类结果的一致性\n",
    "- kappa系数是衡量分类精度的指标。\n",
    "- kappa系数取值为-1到1之间,通常大于0  \n",
    "- <font size=4> $kappa = \\frac{p_o-p_e}{1-p_e}$ </font>  \n",
    "> - $p_o$ 等价于acc  \n",
    ">  $p_o$ = 对角线之和 / 整个矩阵元素之和 \n",
    "> - $p_e$ 是所有类别对应的“实际与预测数量的乘积之总和”除以“样本总数的平方”  \n",
    ">  $p_e = \\frac{\\sum{第i行之和 * 第i列之和}}{矩阵所有元素之和} $\n"
   ]
  },
  {
   "cell_type": "markdown",
   "metadata": {},
   "source": [
    "- kappa系数计算示例  \n",
    "\n",
    "\n",
    "| <font size=4>成绩评级</font> | <font size=4>好</font> | <font size=4>中</font> | <font size=4>差</font> |\n",
    "| :-: | :-: | :-: | :-: |\n",
    "| <font size=4>好</font> | <font size=4>a</font> | <font size=4>b</font> | <font size=4>c</font> |\n",
    "| <font size=4>中</font> | <font size=4>d</font> | <font size=4>e</font> | <font size=4>f</font> |\n",
    "| <font size=4>差</font> | <font size=4>g</font> | <font size=4>h</font> | <font size=4>i</font> |  \n",
    "<font size=4>$p_o = \\frac{a+e+i}{\\sum{a\\cdots i}}$</font>  \n",
    "<font size=4>$p_e = \\frac{(a+d+g)\\times(a+b+c) + (b+e+h)\\times(d+e+f) + (c+f+i)\\times(g+h+i)}{(a+b+c+d+e+f+g+h+i)^2}$</font>  "
   ]
  },
  {
   "cell_type": "markdown",
   "metadata": {},
   "source": [
    "### 为什么要使用kappa\n",
    "在分类问题中，各个类别的样本数量往往不太平衡，这时模型就容易偏向样本多的类别。此时可能出现整体acc挺高，但是部分类别完全不能被预测的现象。\n",
    "\n",
    "- eg: 类别0有10个样本，类别1有90的样本，则将所有类别都预测为1，acc也有90%。但类别0就完全被“抛弃”了。 \n",
    "\n",
    "这时需要一种能够抑制模型的“偏向性”的指标来代替acc。而kappa正好能够抑制模型的“偏向性”。"
   ]
  },
  {
   "cell_type": "markdown",
   "metadata": {},
   "source": [
    "# 编程计算kappa值"
   ]
  },
  {
   "cell_type": "markdown",
   "metadata": {},
   "source": [
    "### 基于混淆矩阵，使用nunpy手动实现"
   ]
  },
  {
   "cell_type": "code",
   "execution_count": 6,
   "metadata": {},
   "outputs": [],
   "source": [
    "import numpy as np\n",
    "\n",
    "# 没有对输入的合法性进行校验\n",
    "# 使用时需要注意\n",
    "def kappa(confusion_matrix):\n",
    "    \"\"\"计算kappa值系数\"\"\"\n",
    "    pe_rows = np.sum(confusion_matrix, axis=0)\n",
    "    pe_cols = np.sum(confusion_matrix, axis=1)\n",
    "    sum_total = sum(pe_cols)\n",
    "    pe = np.dot(pe_rows, pe_cols) / float(sum_total ** 2)\n",
    "    po = np.trace(confusion_matrix) / float(sum_total)\n",
    "    return (po - pe) / (1 - pe)"
   ]
  },
  {
   "cell_type": "markdown",
   "metadata": {},
   "source": [
    "- #### 使用无偏向和有偏向的混淆矩阵分别测试"
   ]
  },
  {
   "cell_type": "code",
   "execution_count": 7,
   "metadata": {},
   "outputs": [],
   "source": [
    "# 无偏向的混淆矩阵\n",
    "balance_matrix = np.array(\n",
    "    [\n",
    "        [2,  1,  1],\n",
    "        [1,  2,  1],\n",
    "        [1,  1,  2]\n",
    "    ]\n",
    ")\n",
    "\n",
    "# 有偏向的混淆矩阵\n",
    "unbalance_matrix = np.array(\n",
    "    [\n",
    "        [0,  0,  3],\n",
    "        [0,  0,  3],\n",
    "        [0,  0,  6]\n",
    "    ]\n",
    ")"
   ]
  },
  {
   "cell_type": "code",
   "execution_count": 11,
   "metadata": {},
   "outputs": [
    {
     "name": "stdout",
     "output_type": "stream",
     "text": [
      "kappa for balance matrix: 0.25\n",
      "kappa for unbalance matrix: 0.0\n"
     ]
    }
   ],
   "source": [
    "kappa_balance = kappa(balance_matrix)\n",
    "print(\"kappa for balance matrix: %s\" % kappa_balance)\n",
    "\n",
    "kappa_unbalance = kappa(unbalance_matrix)\n",
    "print(\"kappa for unbalance matrix: %s\" % kappa_unbalance)"
   ]
  },
  {
   "cell_type": "markdown",
   "metadata": {},
   "source": [
    "> **结论:**  上面两个混淆矩阵的acc一样，但是kappa值不同，偏向性强的kappa值低。"
   ]
  },
  {
   "cell_type": "markdown",
   "metadata": {},
   "source": [
    "### sklearn中的kappa"
   ]
  },
  {
   "cell_type": "code",
   "execution_count": 4,
   "metadata": {},
   "outputs": [
    {
     "name": "stdout",
     "output_type": "stream",
     "text": [
      "kappa值为 0.428571\n"
     ]
    }
   ],
   "source": [
    "from sklearn.metrics import cohen_kappa_score\n",
    "y_true = [2, 0, 2, 2, 0, 1]\n",
    "y_pred = [0, 0, 2, 2, 0, 2]\n",
    "kappa_value = cohen_kappa_score(y_true, y_pred)\n",
    "print(\"kappa值为 %f\" % kappa_value)"
   ]
  },
  {
   "cell_type": "markdown",
   "metadata": {},
   "source": [
    "### tensorflow中的kappa"
   ]
  },
  {
   "cell_type": "code",
   "execution_count": 5,
   "metadata": {},
   "outputs": [
    {
     "name": "stderr",
     "output_type": "stream",
     "text": [
      "C:\\Users\\hzx\\Anaconda3\\lib\\site-packages\\h5py\\__init__.py:36: FutureWarning: Conversion of the second argument of issubdtype from `float` to `np.floating` is deprecated. In future, it will be treated as `np.float64 == np.dtype(float).type`.\n",
      "  from ._conv import register_converters as _register_converters\n"
     ]
    },
    {
     "name": "stdout",
     "output_type": "stream",
     "text": [
      "0.0 0.42857142857142855\n",
      "0.42857142857142855 0.42857142857142855\n"
     ]
    }
   ],
   "source": [
    "import tensorflow as tf\n",
    "\n",
    "y_t = tf.constant(y_true)\n",
    "y_p = tf.constant(y_pred)\n",
    "kappa, update = tf.contrib.metrics.cohen_kappa(y_t, y_p, 3)\n",
    "with tf.Session() as sess:\n",
    "    sess.run(tf.local_variables_initializer())\n",
    "    print(kappa.eval(), update.eval())\n",
    "    print(kappa.eval(), update.eval())"
   ]
  },
  {
   "cell_type": "markdown",
   "metadata": {},
   "source": [
    "> - **注意**  \n",
    "> 如上例结果  \n",
    "> tensorflow一开始将kappa初始化为0  \n",
    "> 返回值中“kappa”是运行计算图之前的kappa值，“update”才是运行了计算图后的kappa值。\n",
    "> 不可像调用sklearn那样直接把返回的“kappa”作为kappa值"
   ]
  },
  {
   "cell_type": "code",
   "execution_count": null,
   "metadata": {},
   "outputs": [],
   "source": []
  }
 ],
 "metadata": {
  "kernelspec": {
   "display_name": "Python 3",
   "language": "python",
   "name": "python3"
  },
  "language_info": {
   "codemirror_mode": {
    "name": "ipython",
    "version": 3
   },
   "file_extension": ".py",
   "mimetype": "text/x-python",
   "name": "python",
   "nbconvert_exporter": "python",
   "pygments_lexer": "ipython3",
   "version": "3.6.5"
  }
 },
 "nbformat": 4,
 "nbformat_minor": 2
}
