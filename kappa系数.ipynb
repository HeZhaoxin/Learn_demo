{
 "cells": [
  {
   "cell_type": "markdown",
   "metadata": {},
   "source": [
    "# < center> kappa系数简 介< /center>"
   ]
  },
  {
   "cell_type": "markdown",
   "metadata": {},
   "source": [
    "### kappa系数是什么"
   ]
  },
  {
   "cell_type": "markdown",
   "metadata": {},
   "source": [
    "- Kappa系数用于一致性检验，也可以用于衡量分类精度，kappa系数的计算是基于混淆矩阵的。  \n",
    "> 分类问题中，这个一致性就是模型预测结果和实际分类结果的一致性\n",
    "- kappa系数是一种衡量分类精度的指标。它是通过把所有地表真实分类中的像元总数（N）乘以混淆矩阵对角线（Xkk）的和，再减去某一类地表真实像元总数与该类中被分类像元总数之积对所有类别求和的结果，再除以总像元数的平方减去某一类地表真实像元总数与该类中被分类像元总数之积对所有类别求和的结果所得到的。\n",
    "&emsp;&emsp;&emsp;&emsp;&emsp;&emsp;&emsp;&emsp;&emsp;——from百度百科  \n",
    "- kappa系数取值为-1到1之间  \n",
    "- $kappa = \\frac{p_o-p_e}{1-p_e}$\n",
    "> 其中 $p_o$ 是整体精度，也就是acc  \n",
    "> $p_e$ 是所有类别对应的实际与预测数量的乘积之总和除以样本总数的平方  "
   ]
  },
  {
   "cell_type": "markdown",
   "metadata": {},
   "source": [
    "- kappa系数计算示例  \n",
    "\n",
    "| 成绩评级 | 好 | 中 | 差 |\n",
    "| :-: | :-: | :-: | :-: |\n",
    "| 好 | a | b | c |\n",
    "| 中 | d | e | f |\n",
    "| 差 | g | h | i |  \n",
    "$p_o = \\frac{a+e+i}{\\sum{a\\cdots i}}$  \n",
    "$p_e = \\frac{(a+d+g)\\times(a+b+c) + (b+e+h)\\times(d+e+f) + (c+f+i)\\times(g+h+i)}{(\\sum{a\\cdots i})^2}$  "
   ]
  },
  {
   "cell_type": "markdown",
   "metadata": {},
   "source": [
    "### 为什么要使用kappa\n",
    "在分类问题中，各个类别的样本数量往往不太平衡，这时模型就很容易偏向样本多的类别。此时可能出现整体acc挺高，但是部分类别完全不能被预测的现象。\n",
    "\n",
    "- eg: 类别0有10个样本，类别1有90的样本，则将所有类别都预测为1，acc也有90%。但类别0就完全被“抛弃”了。 \n",
    "\n",
    "这时需要一种能够抑制模型的“偏向性”的指标来代替acc。而kappa正好能够抑制模型的“偏向性”。"
   ]
  },
  {
   "cell_type": "markdown",
   "metadata": {},
   "source": [
    "# <center> 编程计算kappa值 </center>"
   ]
  },
  {
   "cell_type": "markdown",
   "metadata": {},
   "source": [
    "### 基于混淆矩阵，使用nunpy手动实现"
   ]
  },
  {
   "cell_type": "code",
   "execution_count": 59,
   "metadata": {},
   "outputs": [],
   "source": [
    "import numpy as np\n",
    "\n",
    "# 没有对输入的合法性进行校验\n",
    "# 使用时需要注意\n",
    "def kappa(confusion_matrix):\n",
    "    \"\"\"计算kappa值系数\"\"\"\n",
    "    sum_row_list = np.sum(confusion_matrix, axis=0)\n",
    "    sum_col_list = np.sum(confusion_matrix, axis=1)\n",
    "    sum_total = sum(sum_col_list)\n",
    "    pe = np.dot(sum_row_list, sum_col_list) / float(sum_total ** 2)\n",
    "    po = np.trace(confusion_matrix) / float(sum_total)\n",
    "    return (po - pe) / (1 - pe)"
   ]
  },
  {
   "cell_type": "markdown",
   "metadata": {},
   "source": [
    "- #### 使用无偏向和有偏向的混淆矩阵分别测试"
   ]
  },
  {
   "cell_type": "code",
   "execution_count": 57,
   "metadata": {},
   "outputs": [],
   "source": [
    "# 无偏向的混淆矩阵\n",
    "balance_matrix = np.array(\n",
    "    [\n",
    "        [2,  1,  1],\n",
    "        [1,  2,  1],\n",
    "        [1,  1,  2]\n",
    "    ]\n",
    ")\n",
    "\n",
    "# 有偏向的混淆矩阵\n",
    "unbalance_matrix = np.array(\n",
    "    [\n",
    "        [0,  0,  3],\n",
    "        [0,  0,  3],\n",
    "        [0,  0,  3]\n",
    "    ]\n",
    ")"
   ]
  },
  {
   "cell_type": "code",
   "execution_count": 58,
   "metadata": {},
   "outputs": [
    {
     "name": "stdout",
     "output_type": "stream",
     "text": [
      "0.25\n",
      "0.0\n"
     ]
    }
   ],
   "source": [
    "kappa_balance = kappa(balance_matrix)\n",
    "print(kappa_balance)\n",
    "\n",
    "kappa_unbalance = kappa(unbalance_matrix)\n",
    "print(kappa_unbalance)"
   ]
  },
  {
   "cell_type": "markdown",
   "metadata": {},
   "source": [
    "> **结论:**  上面两个混淆矩阵的acc一样，但是kappa值不同，偏向性强的kappa值低。"
   ]
  },
  {
   "cell_type": "markdown",
   "metadata": {},
   "source": [
    "### sklearn中的kappa"
   ]
  },
  {
   "cell_type": "code",
   "execution_count": 63,
   "metadata": {},
   "outputs": [
    {
     "name": "stdout",
     "output_type": "stream",
     "text": [
      "kappa值为 0.428571\n"
     ]
    }
   ],
   "source": [
    "from sklearn.metrics import cohen_kappa_score\n",
    "y_true = [2, 0, 2, 2, 0, 1]\n",
    "y_pred = [0, 0, 2, 2, 0, 2]\n",
    "kappa_value = cohen_kappa_score(y_true, y_pred)\n",
    "print(\"kappa值为 %f\" % kappa_value)"
   ]
  },
  {
   "cell_type": "markdown",
   "metadata": {},
   "source": [
    "### tensorflow中的kappa"
   ]
  },
  {
   "cell_type": "code",
   "execution_count": null,
   "metadata": {},
   "outputs": [],
   "source": []
  },
  {
   "cell_type": "markdown",
   "metadata": {},
   "source": [
    "### pytorch中的kappa"
   ]
  },
  {
   "cell_type": "code",
   "execution_count": null,
   "metadata": {},
   "outputs": [],
   "source": []
  }
 ],
 "metadata": {
  "kernelspec": {
   "display_name": "Python 3",
   "language": "python",
   "name": "python3"
  },
  "language_info": {
   "codemirror_mode": {
    "name": "ipython",
    "version": 3
   },
   "file_extension": ".py",
   "mimetype": "text/x-python",
   "name": "python",
   "nbconvert_exporter": "python",
   "pygments_lexer": "ipython3",
   "version": "3.6.5"
  }
 },
 "nbformat": 4,
 "nbformat_minor": 2
}
