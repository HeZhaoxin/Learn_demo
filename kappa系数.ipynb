{
 "cells": [
  {
   "cell_type": "markdown",
   "metadata": {},
   "source": [
    "## kappa系数简介"
   ]
  },
  {
   "cell_type": "markdown",
   "metadata": {},
   "source": [
    "Kappa系数用于一致性检验，也可以用于衡量分类精度，kappa系数的计算是基于混淆矩阵的。 ——from百度百科\n",
    "kappa系数取值为-1到1之间"
   ]
  },
  {
   "cell_type": "markdown",
   "metadata": {},
   "source": [
    "## 基于混淆矩阵，手工计算kappa值"
   ]
  },
  {
   "cell_type": "code",
   "execution_count": 6,
   "metadata": {},
   "outputs": [],
   "source": [
    "import numpy as np\n",
    "\n",
    "def kappa(confusion_matrix):\n",
    "    \"\"\"计算kappa值系数\"\"\"\n",
    "    sum_row_list = np.sum(confusion_matrix, axis=0)\n",
    "    sum_col_list = np.sum(confusion_matrix, axis=1)\n",
    "    sum_total = sum(col_sum)\n",
    "    pe = np.dot(sum_row_list, sum_col_list) / float(sum_total ** 2)\n",
    "    po = np.trace(confusion_matrix) / float(sum_total)\n",
    "    return (po - pe) / (1 - pe)"
   ]
  },
  {
   "cell_type": "code",
   "execution_count": null,
   "metadata": {},
   "outputs": [],
   "source": [
    "# 测试\n",
    "confusion_matrix = np.array(\n",
    "    [\n",
    "        [21, 3, 19, 6, 81, 13, 12, 1, 0],\n",
    "        [0, 47, 2, ],\n",
    "        [],\n",
    "        [],\n",
    "        [],\n",
    "        [],\n",
    "        [],\n",
    "        [],\n",
    "    ]\n",
    ")"
   ]
  }
 ],
 "metadata": {
  "kernelspec": {
   "display_name": "Python 3",
   "language": "python",
   "name": "python3"
  },
  "language_info": {
   "codemirror_mode": {
    "name": "ipython",
    "version": 3
   },
   "file_extension": ".py",
   "mimetype": "text/x-python",
   "name": "python",
   "nbconvert_exporter": "python",
   "pygments_lexer": "ipython3",
   "version": "3.7.1"
  }
 },
 "nbformat": 4,
 "nbformat_minor": 2
}
